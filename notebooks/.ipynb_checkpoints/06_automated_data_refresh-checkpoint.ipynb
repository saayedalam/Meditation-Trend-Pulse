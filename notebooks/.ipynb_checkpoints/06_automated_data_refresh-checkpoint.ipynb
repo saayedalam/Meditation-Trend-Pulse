{
 "cells": [
  {
   "cell_type": "code",
   "execution_count": 5,
   "id": "2c027aa9-4914-4a4f-957b-1ce483dec76e",
   "metadata": {},
   "outputs": [],
   "source": [
    "# 🔹 Step 1: Load existing trend data and check the latest date\n",
    "\n",
    "import pandas as pd\n",
    "from pytrends.request import TrendReq\n",
    "from datetime import datetime\n",
    "import pandas as pd"
   ]
  },
  {
   "cell_type": "code",
   "execution_count": 17,
   "id": "6bdfc77e-648c-4561-b0e7-0d88945fc548",
   "metadata": {},
   "outputs": [],
   "source": [
    "# Path to your existing global trends file\n",
    "existing_path = \"../data/streamlit/global_trend_summary.csv\""
   ]
  },
  {
   "cell_type": "code",
   "execution_count": 18,
   "id": "2d8bc4fe-2eca-4761-ad27-cab15f7d1dd3",
   "metadata": {},
   "outputs": [],
   "source": [
    "# Load the dataset\n",
    "df_existing = pd.read_csv(file_path, parse_dates=[\"date\"])"
   ]
  },
  {
   "cell_type": "code",
   "execution_count": 4,
   "id": "7aa66f84-d379-41c0-8789-0f4a8c8efc1f",
   "metadata": {},
   "outputs": [
    {
     "data": {
      "text/html": [
       "<div>\n",
       "<style scoped>\n",
       "    .dataframe tbody tr th:only-of-type {\n",
       "        vertical-align: middle;\n",
       "    }\n",
       "\n",
       "    .dataframe tbody tr th {\n",
       "        vertical-align: top;\n",
       "    }\n",
       "\n",
       "    .dataframe thead th {\n",
       "        text-align: right;\n",
       "    }\n",
       "</style>\n",
       "<table border=\"1\" class=\"dataframe\">\n",
       "  <thead>\n",
       "    <tr style=\"text-align: right;\">\n",
       "      <th></th>\n",
       "      <th>date</th>\n",
       "      <th>keyword</th>\n",
       "      <th>search_interest</th>\n",
       "    </tr>\n",
       "  </thead>\n",
       "  <tbody>\n",
       "    <tr>\n",
       "      <th>1309</th>\n",
       "      <td>2025-07-27</td>\n",
       "      <td>yoga nidra</td>\n",
       "      <td>3</td>\n",
       "    </tr>\n",
       "  </tbody>\n",
       "</table>\n",
       "</div>"
      ],
      "text/plain": [
       "           date     keyword  search_interest\n",
       "1309 2025-07-27  yoga nidra                3"
      ]
     },
     "execution_count": 4,
     "metadata": {},
     "output_type": "execute_result"
    }
   ],
   "source": [
    "# Preview and check latest date\n",
    "df_existing.sort_values(\"date\", ascending=False).head(1)"
   ]
  },
  {
   "cell_type": "code",
   "execution_count": 6,
   "id": "1a7f85cc-985a-42d2-8df0-cadde356a81c",
   "metadata": {},
   "outputs": [],
   "source": [
    "# Define keywords and timeframe\n",
    "keywords = [\"meditation\", \"mindfulness\", \"breathwork\", \"guided meditation\", \"yoga nidra\"]\n",
    "start_date = \"2025-08-03\"  # One day after last entry\n",
    "end_date = datetime.today().strftime(\"%Y-%m-%d\")  # Today"
   ]
  },
  {
   "cell_type": "code",
   "execution_count": 7,
   "id": "691496d1-4ce0-4b69-86f1-9cfab52abade",
   "metadata": {},
   "outputs": [],
   "source": [
    "# Initialize pytrends\n",
    "pytrends = TrendReq(hl='en-US', tz=360)"
   ]
  },
  {
   "cell_type": "code",
   "execution_count": 8,
   "id": "c79552fb-6872-4e3a-8ed3-350a2bf52975",
   "metadata": {},
   "outputs": [],
   "source": [
    "# Store results\n",
    "all_data = []"
   ]
  },
  {
   "cell_type": "code",
   "execution_count": 9,
   "id": "93c77f42-ada9-4d47-a803-4aa80d386613",
   "metadata": {},
   "outputs": [
    {
     "name": "stderr",
     "output_type": "stream",
     "text": [
      "/Users/saayedalam/jupyterlab-env/lib/python3.13/site-packages/pytrends/request.py:260: FutureWarning: Downcasting object dtype arrays on .fillna, .ffill, .bfill is deprecated and will change in a future version. Call result.infer_objects(copy=False) instead. To opt-in to the future behavior, set `pd.set_option('future.no_silent_downcasting', True)`\n",
      "  df = df.fillna(False)\n",
      "/Users/saayedalam/jupyterlab-env/lib/python3.13/site-packages/pytrends/request.py:260: FutureWarning: Downcasting object dtype arrays on .fillna, .ffill, .bfill is deprecated and will change in a future version. Call result.infer_objects(copy=False) instead. To opt-in to the future behavior, set `pd.set_option('future.no_silent_downcasting', True)`\n",
      "  df = df.fillna(False)\n",
      "/Users/saayedalam/jupyterlab-env/lib/python3.13/site-packages/pytrends/request.py:260: FutureWarning: Downcasting object dtype arrays on .fillna, .ffill, .bfill is deprecated and will change in a future version. Call result.infer_objects(copy=False) instead. To opt-in to the future behavior, set `pd.set_option('future.no_silent_downcasting', True)`\n",
      "  df = df.fillna(False)\n",
      "/Users/saayedalam/jupyterlab-env/lib/python3.13/site-packages/pytrends/request.py:260: FutureWarning: Downcasting object dtype arrays on .fillna, .ffill, .bfill is deprecated and will change in a future version. Call result.infer_objects(copy=False) instead. To opt-in to the future behavior, set `pd.set_option('future.no_silent_downcasting', True)`\n",
      "  df = df.fillna(False)\n",
      "/Users/saayedalam/jupyterlab-env/lib/python3.13/site-packages/pytrends/request.py:260: FutureWarning: Downcasting object dtype arrays on .fillna, .ffill, .bfill is deprecated and will change in a future version. Call result.infer_objects(copy=False) instead. To opt-in to the future behavior, set `pd.set_option('future.no_silent_downcasting', True)`\n",
      "  df = df.fillna(False)\n"
     ]
    }
   ],
   "source": [
    "for kw in keywords:\n",
    "    pytrends.build_payload([kw], cat=0, timeframe=f\"{start_date} {end_date}\", geo=\"\", gprop=\"\")\n",
    "    df_kw = pytrends.interest_over_time()\n",
    "    \n",
    "    if not df_kw.empty:\n",
    "        df_kw = df_kw.reset_index()\n",
    "        df_kw = df_kw[[\"date\", kw]]\n",
    "        df_kw = df_kw.rename(columns={kw: \"search_interest\"})\n",
    "        df_kw[\"keyword\"] = kw\n",
    "        all_data.append(df_kw)"
   ]
  },
  {
   "cell_type": "code",
   "execution_count": 10,
   "id": "a0573da3-fb31-4880-a18a-c83ddf7b6e3d",
   "metadata": {},
   "outputs": [],
   "source": [
    "df_new = pd.concat(all_data, ignore_index=True)"
   ]
  },
  {
   "cell_type": "code",
   "execution_count": 11,
   "id": "147430fb-8a0c-4101-9071-6fc850555270",
   "metadata": {},
   "outputs": [],
   "source": [
    "df_new = df_new[[\"date\", \"keyword\", \"search_interest\"]]"
   ]
  },
  {
   "cell_type": "code",
   "execution_count": 12,
   "id": "9ee53cba-442f-41b0-9310-3dd0d0ec3cb5",
   "metadata": {},
   "outputs": [],
   "source": [
    "df_new = df_new[df_new[\"date\"] > pd.to_datetime(\"2025-07-27\")] "
   ]
  },
  {
   "cell_type": "code",
   "execution_count": 13,
   "id": "748b985e-327a-4b85-9b28-96d2be8fd8b4",
   "metadata": {},
   "outputs": [
    {
     "data": {
      "text/html": [
       "<div>\n",
       "<style scoped>\n",
       "    .dataframe tbody tr th:only-of-type {\n",
       "        vertical-align: middle;\n",
       "    }\n",
       "\n",
       "    .dataframe tbody tr th {\n",
       "        vertical-align: top;\n",
       "    }\n",
       "\n",
       "    .dataframe thead th {\n",
       "        text-align: right;\n",
       "    }\n",
       "</style>\n",
       "<table border=\"1\" class=\"dataframe\">\n",
       "  <thead>\n",
       "    <tr style=\"text-align: right;\">\n",
       "      <th></th>\n",
       "      <th>date</th>\n",
       "      <th>keyword</th>\n",
       "      <th>search_interest</th>\n",
       "    </tr>\n",
       "  </thead>\n",
       "  <tbody>\n",
       "    <tr>\n",
       "      <th>60</th>\n",
       "      <td>2025-08-11</td>\n",
       "      <td>yoga nidra</td>\n",
       "      <td>84</td>\n",
       "    </tr>\n",
       "    <tr>\n",
       "      <th>61</th>\n",
       "      <td>2025-08-12</td>\n",
       "      <td>yoga nidra</td>\n",
       "      <td>85</td>\n",
       "    </tr>\n",
       "    <tr>\n",
       "      <th>62</th>\n",
       "      <td>2025-08-13</td>\n",
       "      <td>yoga nidra</td>\n",
       "      <td>100</td>\n",
       "    </tr>\n",
       "    <tr>\n",
       "      <th>63</th>\n",
       "      <td>2025-08-14</td>\n",
       "      <td>yoga nidra</td>\n",
       "      <td>99</td>\n",
       "    </tr>\n",
       "    <tr>\n",
       "      <th>64</th>\n",
       "      <td>2025-08-15</td>\n",
       "      <td>yoga nidra</td>\n",
       "      <td>88</td>\n",
       "    </tr>\n",
       "  </tbody>\n",
       "</table>\n",
       "</div>"
      ],
      "text/plain": [
       "         date     keyword  search_interest\n",
       "60 2025-08-11  yoga nidra               84\n",
       "61 2025-08-12  yoga nidra               85\n",
       "62 2025-08-13  yoga nidra              100\n",
       "63 2025-08-14  yoga nidra               99\n",
       "64 2025-08-15  yoga nidra               88"
      ]
     },
     "execution_count": 13,
     "metadata": {},
     "output_type": "execute_result"
    }
   ],
   "source": [
    "df_new.tail()"
   ]
  },
  {
   "cell_type": "code",
   "execution_count": 14,
   "id": "40cf5747-2fce-455a-87f3-c670e7f202eb",
   "metadata": {},
   "outputs": [
    {
     "data": {
      "text/plain": [
       "(Timestamp('2025-08-03 00:00:00'), Timestamp('2025-08-15 00:00:00'), (65, 3))"
      ]
     },
     "execution_count": 14,
     "metadata": {},
     "output_type": "execute_result"
    }
   ],
   "source": [
    "df_new[\"date\"].min(), df_new[\"date\"].max(), df_new.shape"
   ]
  },
  {
   "cell_type": "code",
   "execution_count": 15,
   "id": "e7e9cc6a-e70b-40ed-abe4-84087546587b",
   "metadata": {},
   "outputs": [],
   "source": [
    "# 🧮 Combine and deduplicate\n",
    "df_combined = pd.concat([df_existing, df_new], ignore_index=True)\n",
    "df_combined = df_combined.drop_duplicates(subset=[\"date\", \"keyword\"]).sort_values(by=[\"keyword\", \"date\"])"
   ]
  },
  {
   "cell_type": "code",
   "execution_count": 19,
   "id": "b351faa4-1f30-42a2-a79c-6d3163da9beb",
   "metadata": {},
   "outputs": [],
   "source": [
    "# 💾 Save updated dataset\n",
    "df_combined.to_csv(existing_path, index=False)"
   ]
  },
  {
   "cell_type": "code",
   "execution_count": 20,
   "id": "17280f79-c861-48e3-9f60-efeea00dafdb",
   "metadata": {},
   "outputs": [
    {
     "name": "stdout",
     "output_type": "stream",
     "text": [
      "✅ Dataset updated and saved: (1375, 3)\n"
     ]
    },
    {
     "data": {
      "text/html": [
       "<div>\n",
       "<style scoped>\n",
       "    .dataframe tbody tr th:only-of-type {\n",
       "        vertical-align: middle;\n",
       "    }\n",
       "\n",
       "    .dataframe tbody tr th {\n",
       "        vertical-align: top;\n",
       "    }\n",
       "\n",
       "    .dataframe thead th {\n",
       "        text-align: right;\n",
       "    }\n",
       "</style>\n",
       "<table border=\"1\" class=\"dataframe\">\n",
       "  <thead>\n",
       "    <tr style=\"text-align: right;\">\n",
       "      <th></th>\n",
       "      <th>date</th>\n",
       "      <th>keyword</th>\n",
       "      <th>search_interest</th>\n",
       "    </tr>\n",
       "  </thead>\n",
       "  <tbody>\n",
       "    <tr>\n",
       "      <th>1365</th>\n",
       "      <td>2025-08-06</td>\n",
       "      <td>yoga nidra</td>\n",
       "      <td>93</td>\n",
       "    </tr>\n",
       "    <tr>\n",
       "      <th>1366</th>\n",
       "      <td>2025-08-07</td>\n",
       "      <td>yoga nidra</td>\n",
       "      <td>88</td>\n",
       "    </tr>\n",
       "    <tr>\n",
       "      <th>1367</th>\n",
       "      <td>2025-08-08</td>\n",
       "      <td>yoga nidra</td>\n",
       "      <td>85</td>\n",
       "    </tr>\n",
       "    <tr>\n",
       "      <th>1368</th>\n",
       "      <td>2025-08-09</td>\n",
       "      <td>yoga nidra</td>\n",
       "      <td>82</td>\n",
       "    </tr>\n",
       "    <tr>\n",
       "      <th>1369</th>\n",
       "      <td>2025-08-10</td>\n",
       "      <td>yoga nidra</td>\n",
       "      <td>86</td>\n",
       "    </tr>\n",
       "    <tr>\n",
       "      <th>1370</th>\n",
       "      <td>2025-08-11</td>\n",
       "      <td>yoga nidra</td>\n",
       "      <td>84</td>\n",
       "    </tr>\n",
       "    <tr>\n",
       "      <th>1371</th>\n",
       "      <td>2025-08-12</td>\n",
       "      <td>yoga nidra</td>\n",
       "      <td>85</td>\n",
       "    </tr>\n",
       "    <tr>\n",
       "      <th>1372</th>\n",
       "      <td>2025-08-13</td>\n",
       "      <td>yoga nidra</td>\n",
       "      <td>100</td>\n",
       "    </tr>\n",
       "    <tr>\n",
       "      <th>1373</th>\n",
       "      <td>2025-08-14</td>\n",
       "      <td>yoga nidra</td>\n",
       "      <td>99</td>\n",
       "    </tr>\n",
       "    <tr>\n",
       "      <th>1374</th>\n",
       "      <td>2025-08-15</td>\n",
       "      <td>yoga nidra</td>\n",
       "      <td>88</td>\n",
       "    </tr>\n",
       "  </tbody>\n",
       "</table>\n",
       "</div>"
      ],
      "text/plain": [
       "           date     keyword  search_interest\n",
       "1365 2025-08-06  yoga nidra               93\n",
       "1366 2025-08-07  yoga nidra               88\n",
       "1367 2025-08-08  yoga nidra               85\n",
       "1368 2025-08-09  yoga nidra               82\n",
       "1369 2025-08-10  yoga nidra               86\n",
       "1370 2025-08-11  yoga nidra               84\n",
       "1371 2025-08-12  yoga nidra               85\n",
       "1372 2025-08-13  yoga nidra              100\n",
       "1373 2025-08-14  yoga nidra               99\n",
       "1374 2025-08-15  yoga nidra               88"
      ]
     },
     "execution_count": 20,
     "metadata": {},
     "output_type": "execute_result"
    }
   ],
   "source": [
    "# ✅ Confirmation\n",
    "print(\"✅ Dataset updated and saved:\", df_combined.shape)\n",
    "df_combined.tail(10)"
   ]
  },
  {
   "cell_type": "code",
   "execution_count": null,
   "id": "895f9100-52f0-42ae-940e-637e78bad07b",
   "metadata": {},
   "outputs": [],
   "source": []
  }
 ],
 "metadata": {
  "kernelspec": {
   "display_name": "Python 3 (ipykernel)",
   "language": "python",
   "name": "python3"
  },
  "language_info": {
   "codemirror_mode": {
    "name": "ipython",
    "version": 3
   },
   "file_extension": ".py",
   "mimetype": "text/x-python",
   "name": "python",
   "nbconvert_exporter": "python",
   "pygments_lexer": "ipython3",
   "version": "3.13.3"
  }
 },
 "nbformat": 4,
 "nbformat_minor": 5
}
