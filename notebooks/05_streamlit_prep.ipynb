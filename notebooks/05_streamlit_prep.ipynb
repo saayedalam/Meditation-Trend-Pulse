{
 "cells": [
  {
   "cell_type": "markdown",
   "id": "37fd8ce9-59b6-497b-883e-111b471238a2",
   "metadata": {},
   "source": [
    "# 📘 Notebook 6: Final Data Export for Streamlit Dashboard\n",
    "\n",
    "This notebook prepares the cleaned and analysis-ready datasets for use in the upcoming Streamlit dashboard.\n",
    "\n",
    "We previously saved intermediate results during the Trend, Country, and Related Queries analyses. In this notebook, we simply load those final outputs, verify their structure, and export the required subsets into a dedicated folder (`../data/streamlit/`) for use in the dashboard.\n",
    "\n",
    "This replaces the earlier Tableau prep plan and is part of transitioning this project into a fully automated and interactive data app."
   ]
  },
  {
   "cell_type": "code",
   "execution_count": 1,
   "id": "9b4fb744-0a4b-488a-a96f-e9b14ee59184",
   "metadata": {},
   "outputs": [],
   "source": [
    "import os\n",
    "import pandas as pd"
   ]
  },
  {
   "cell_type": "code",
   "execution_count": 2,
   "id": "b63fcdf2-87ac-45c1-ac2d-049ef4dbb149",
   "metadata": {},
   "outputs": [
    {
     "name": "stdout",
     "output_type": "stream",
     "text": [
      "✅ Trend files loaded:\n",
      "📊 df_trend: (262, 6)\n",
      "📊 df_trend_smoothed: (262, 6)\n",
      "📊 df_pct_change: (5, 2)\n",
      "📊 df_top_peaks: (15, 3)\n",
      "📊 df_heatmap: (8, 61)\n"
     ]
    }
   ],
   "source": [
    "# 📥 Load final trend datasets\n",
    "df_trend = pd.read_csv(\"../data/raw/interest_over_time.csv\")\n",
    "df_trend_smoothed = pd.read_csv(\"../data/processed/interest_over_time_smoothed.csv\")\n",
    "df_pct_change = pd.read_csv(\"../data/processed/interest_percent_change.csv\")\n",
    "df_top_peaks = pd.read_csv(\"../data/processed/interest_top_peaks.csv\")\n",
    "df_heatmap = pd.read_csv(\"../data/processed/interest_monthly_heatmap.csv\")\n",
    "\n",
    "# ✅ Confirm load\n",
    "print(\"✅ Trend files loaded:\")\n",
    "print(\"📊 df_trend:\", df_trend.shape)\n",
    "print(\"📊 df_trend_smoothed:\", df_trend_smoothed.shape)\n",
    "print(\"📊 df_pct_change:\", df_pct_change.shape)\n",
    "print(\"📊 df_top_peaks:\", df_top_peaks.shape)\n",
    "print(\"📊 df_heatmap:\", df_heatmap.shape)"
   ]
  },
  {
   "cell_type": "code",
   "execution_count": 3,
   "id": "df228b92-dbc2-4973-a018-191739e5619a",
   "metadata": {},
   "outputs": [
    {
     "name": "stdout",
     "output_type": "stream",
     "text": [
      "✅ Country files loaded:\n",
      "🌍 df_country_long: (258, 3)\n",
      "🌍 df_country_pivot: (70, 6)\n",
      "🌍 df_country_coverage: (5, 2)\n",
      "🌍 df_country_total: (5, 2)\n",
      "🌍 df_country_top10: (50, 3)\n",
      "🌍 df_country_share: (258, 4)\n",
      "🌍 df_country_top5: (11, 2)\n"
     ]
    }
   ],
   "source": [
    "# 🌍 Load final country-level datasets\n",
    "df_country_long = pd.read_csv(\"../data/processed/country_interest_long.csv\")\n",
    "df_country_pivot = pd.read_csv(\"../data/processed/country_interest_pivot.csv\")\n",
    "df_country_coverage = pd.read_csv(\"../data/processed/country_num_countries_with_interest.csv\")\n",
    "df_country_total = pd.read_csv(\"../data/processed/country_total_interest_by_keyword.csv\")\n",
    "df_country_top10 = pd.read_csv(\"../data/processed/country_top10_by_keyword.csv\")\n",
    "df_country_share = pd.read_csv(\"../data/processed/country_share_of_interest.csv\")\n",
    "df_country_top5 = pd.read_csv(\"../data/processed/country_top5_appearance_counts.csv\")\n",
    "\n",
    "# ✅ Confirm load\n",
    "print(\"✅ Country files loaded:\")\n",
    "print(\"🌍 df_country_long:\", df_country_long.shape)\n",
    "print(\"🌍 df_country_pivot:\", df_country_pivot.shape)\n",
    "print(\"🌍 df_country_coverage:\", df_country_coverage.shape)\n",
    "print(\"🌍 df_country_total:\", df_country_total.shape)\n",
    "print(\"🌍 df_country_top10:\", df_country_top10.shape)\n",
    "print(\"🌍 df_country_share:\", df_country_share.shape)\n",
    "print(\"🌍 df_country_top5:\", df_country_top5.shape)"
   ]
  },
  {
   "cell_type": "code",
   "execution_count": 4,
   "id": "62365c3f-1723-433a-b367-7a908f660307",
   "metadata": {},
   "outputs": [
    {
     "name": "stdout",
     "output_type": "stream",
     "text": [
      "✅ Related queries files loaded:\n",
      "🔍 df_related_cleaned: (250, 4)\n",
      "🔍 df_related_top10: (50, 4)\n",
      "🔍 df_related_rising10: (50, 4)\n",
      "🔍 df_related_shared: (16, 5)\n",
      "🔍 df_related_keyword_counts: (229, 2)\n"
     ]
    }
   ],
   "source": [
    "# 🔍 Load final related query datasets\n",
    "df_related_cleaned = pd.read_csv(\"../data/processed/related_queries_cleaned.csv\")\n",
    "df_related_top10 = pd.read_csv(\"../data/processed/related_queries_top10.csv\")\n",
    "df_related_rising10 = pd.read_csv(\"../data/processed/related_queries_rising10.csv\")\n",
    "df_related_shared = pd.read_csv(\"../data/processed/related_queries_shared.csv\")\n",
    "df_related_keyword_counts = pd.read_csv(\"../data/processed/related_query_keyword_counts.csv\")\n",
    "\n",
    "# ✅ Confirm load\n",
    "print(\"✅ Related queries files loaded:\")\n",
    "print(\"🔍 df_related_cleaned:\", df_related_cleaned.shape)\n",
    "print(\"🔍 df_related_top10:\", df_related_top10.shape)\n",
    "print(\"🔍 df_related_rising10:\", df_related_rising10.shape)\n",
    "print(\"🔍 df_related_shared:\", df_related_shared.shape)\n",
    "print(\"🔍 df_related_keyword_counts:\", df_related_keyword_counts.shape)"
   ]
  },
  {
   "cell_type": "code",
   "execution_count": 3,
   "id": "c3e7fdd9-fa30-48e1-b9d7-702255fa107b",
   "metadata": {},
   "outputs": [],
   "source": [
    "import pandas as pd\n",
    "\n",
    "# Load the raw data\n",
    "df_trend = pd.read_csv(\"../data/raw/interest_over_time.csv\", index_col=0)\n",
    "\n",
    "# Ensure index isn't included as a column\n",
    "df_trend.index.name = None  # remove index name if it exists\n",
    "df_trend.reset_index(drop=True, inplace=True)\n",
    "\n",
    "# Melt into long format\n",
    "df_trend[\"date\"] = pd.date_range(start=\"2020-07-26\", periods=len(df_trend), freq=\"W-SUN\")  # Or load from original if available\n",
    "df_trend_long = df_trend.melt(id_vars=\"date\", var_name=\"keyword\", value_name=\"search_interest\")\n",
    "\n",
    "# Save\n",
    "df_trend_long.to_csv(\"../data/streamlit/global_trend_summary.csv\", index=False)"
   ]
  },
  {
   "cell_type": "code",
   "execution_count": 5,
   "id": "639f13a7-2603-46a1-8e4f-2241343b814d",
   "metadata": {},
   "outputs": [],
   "source": [
    "# 📁 1. Flatten interest_over_time for Tableau\n",
    "# Purpose: Save cleaned trend analysis outputs to processed data folder\n",
    "os.makedirs(\"../data/streamlit\", exist_ok=True)\n",
    "\n",
    "df_trend_long = df_trend.reset_index().melt(id_vars=\"date\", var_name=\"keyword\", value_name=\"search_interest\")\n",
    "df_trend_long.to_csv(\"../data/streamlit/global_trend_summary.csv\", index=False)\n",
    "\n",
    "# 📁 2. Save percent change over time\n",
    "df_pct_change.columns = [\"keyword\", \"percent_change\"]\n",
    "df_pct_change.to_csv(\"../data/streamlit/trend_pct_change.csv\", index=False)\n",
    "\n",
    "# 📁 3. Save top peaks per keyword\n",
    "df_top_peaks_out = df_top_peaks[[\"date\", \"keyword\", \"search_interest\"]].copy()\n",
    "df_top_peaks_out.to_csv(\"../data/streamlit/trend_top_peaks.csv\", index=False)"
   ]
  },
  {
   "cell_type": "code",
   "execution_count": 6,
   "id": "3accf2e6-c309-4d6d-8fb0-86f8f416ef34",
   "metadata": {},
   "outputs": [],
   "source": [
    "# 📁 1. Save long-form country interest data\n",
    "df_country_long.to_csv(\"../data/streamlit/country_interest_summary.csv\", index=False)\n",
    "\n",
    "# 📁 2. Save total interest by keyword\n",
    "df_country_total.to_csv(\"../data/streamlit/country_total_interest_by_keyword.csv\", index=False)\n",
    "\n",
    "# 📁 3. Save country appearance count in top 5 lists\n",
    "df_country_top5.to_csv(\"../data/streamlit/country_top5_appearance_counts.csv\", index=False)"
   ]
  },
  {
   "cell_type": "code",
   "execution_count": 7,
   "id": "58fd6b22-b9e4-4d21-88b0-8cf5ecd72a5f",
   "metadata": {},
   "outputs": [],
   "source": [
    "# 📁 1. Save top 10 related queries per keyword\n",
    "df_related_top10.to_csv(\"../data/streamlit/related_queries_top10.csv\", index=False)\n",
    "\n",
    "# 📁 2. Save rising related queries per keyword\n",
    "df_related_rising10.to_csv(\"../data/streamlit/related_queries_rising10.csv\", index=False)\n",
    "\n",
    "# 📁 3. Save shared related queries across keywords\n",
    "df_related_shared.to_csv(\"../data/streamlit/related_queries_shared.csv\", index=False)"
   ]
  },
  {
   "cell_type": "code",
   "execution_count": 8,
   "id": "93f99743-5ced-4176-b0d9-1610b4da1f67",
   "metadata": {},
   "outputs": [
    {
     "data": {
      "text/plain": [
       "Index(['num_keywords_in_top5', 'count'], dtype='object')"
      ]
     },
     "execution_count": 8,
     "metadata": {},
     "output_type": "execute_result"
    }
   ],
   "source": [
    "df_country_top5.columns"
   ]
  },
  {
   "cell_type": "code",
   "execution_count": 10,
   "id": "1c7dd47d-192e-4334-95cd-262a7fc9e006",
   "metadata": {},
   "outputs": [],
   "source": [
    "# ✅ FIXED version that handles 3 columns\n",
    "df_country_top5_fixed = df_country_top5.reset_index()\n",
    "df_country_top5_fixed.columns = ['keyword', 'country', 'total_interest']  # Adjust to actual column names\n",
    "\n",
    "# Save to Streamlit folder\n",
    "df_country_top5_fixed.to_csv(\"../data/streamlit/country_top5_appearance_counts.csv\", index=False)"
   ]
  },
  {
   "cell_type": "code",
   "execution_count": null,
   "id": "ca1b3153-bb34-4902-ad4a-f349d95e8f73",
   "metadata": {},
   "outputs": [],
   "source": []
  }
 ],
 "metadata": {
  "kernelspec": {
   "display_name": "Python 3 (ipykernel)",
   "language": "python",
   "name": "python3"
  },
  "language_info": {
   "codemirror_mode": {
    "name": "ipython",
    "version": 3
   },
   "file_extension": ".py",
   "mimetype": "text/x-python",
   "name": "python",
   "nbconvert_exporter": "python",
   "pygments_lexer": "ipython3",
   "version": "3.13.3"
  }
 },
 "nbformat": 4,
 "nbformat_minor": 5
}
