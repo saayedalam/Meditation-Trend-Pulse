{
 "cells": [
  {
   "cell_type": "markdown",
   "id": "37fd8ce9-59b6-497b-883e-111b471238a2",
   "metadata": {},
   "source": [
    "# 📘 Notebook 6: Final Data Export for Streamlit Dashboard\n",
    "\n",
    "This notebook prepares the cleaned and analysis-ready datasets for use in the upcoming Streamlit dashboard.\n",
    "\n",
    "We previously saved intermediate results during the Trend, Country, and Related Queries analyses. In this notebook, we simply load those final outputs, verify their structure, and export the required subsets into a dedicated folder (`../data/streamlit/`) for use in the dashboard.\n",
    "\n",
    "This replaces the earlier Tableau prep plan and is part of transitioning this project into a fully automated and interactive data app."
   ]
  },
  {
   "cell_type": "code",
   "execution_count": 1,
   "id": "9b4fb744-0a4b-488a-a96f-e9b14ee59184",
   "metadata": {},
   "outputs": [],
   "source": [
    "import os\n",
    "import pandas as pd"
   ]
  },
  {
   "cell_type": "code",
   "execution_count": 3,
   "id": "b63fcdf2-87ac-45c1-ac2d-049ef4dbb149",
   "metadata": {},
   "outputs": [
    {
     "ename": "FileNotFoundError",
     "evalue": "[Errno 2] No such file or directory: '../data/processed/interest_percent_change.csv'",
     "output_type": "error",
     "traceback": [
      "\u001b[31m---------------------------------------------------------------------------\u001b[39m",
      "\u001b[31mFileNotFoundError\u001b[39m                         Traceback (most recent call last)",
      "\u001b[36mCell\u001b[39m\u001b[36m \u001b[39m\u001b[32mIn[3]\u001b[39m\u001b[32m, line 4\u001b[39m\n\u001b[32m      1\u001b[39m \u001b[38;5;66;03m# 📥 Load final trend datasets\u001b[39;00m\n\u001b[32m      2\u001b[39m \u001b[38;5;66;03m#df_trend = pd.read_csv(\"../data/raw/interest_over_time.csv\")\u001b[39;00m\n\u001b[32m      3\u001b[39m \u001b[38;5;66;03m#df_trend_smoothed = pd.read_csv(\"../data/processed/interest_over_time_smoothed.csv\")\u001b[39;00m\n\u001b[32m----> \u001b[39m\u001b[32m4\u001b[39m df_pct_change = \u001b[43mpd\u001b[49m\u001b[43m.\u001b[49m\u001b[43mread_csv\u001b[49m\u001b[43m(\u001b[49m\u001b[33;43m\"\u001b[39;49m\u001b[33;43m../data/processed/interest_percent_change.csv\u001b[39;49m\u001b[33;43m\"\u001b[39;49m\u001b[43m)\u001b[49m\n\u001b[32m      5\u001b[39m df_top_peaks = pd.read_csv(\u001b[33m\"\u001b[39m\u001b[33m../data/processed/interest_top_peaks.csv\u001b[39m\u001b[33m\"\u001b[39m)\n\u001b[32m      6\u001b[39m df_heatmap = pd.read_csv(\u001b[33m\"\u001b[39m\u001b[33m../data/processed/interest_monthly_heatmap.csv\u001b[39m\u001b[33m\"\u001b[39m)\n",
      "\u001b[36mFile \u001b[39m\u001b[32m~/jupyterlab-env/lib/python3.13/site-packages/pandas/io/parsers/readers.py:1026\u001b[39m, in \u001b[36mread_csv\u001b[39m\u001b[34m(filepath_or_buffer, sep, delimiter, header, names, index_col, usecols, dtype, engine, converters, true_values, false_values, skipinitialspace, skiprows, skipfooter, nrows, na_values, keep_default_na, na_filter, verbose, skip_blank_lines, parse_dates, infer_datetime_format, keep_date_col, date_parser, date_format, dayfirst, cache_dates, iterator, chunksize, compression, thousands, decimal, lineterminator, quotechar, quoting, doublequote, escapechar, comment, encoding, encoding_errors, dialect, on_bad_lines, delim_whitespace, low_memory, memory_map, float_precision, storage_options, dtype_backend)\u001b[39m\n\u001b[32m   1013\u001b[39m kwds_defaults = _refine_defaults_read(\n\u001b[32m   1014\u001b[39m     dialect,\n\u001b[32m   1015\u001b[39m     delimiter,\n\u001b[32m   (...)\u001b[39m\u001b[32m   1022\u001b[39m     dtype_backend=dtype_backend,\n\u001b[32m   1023\u001b[39m )\n\u001b[32m   1024\u001b[39m kwds.update(kwds_defaults)\n\u001b[32m-> \u001b[39m\u001b[32m1026\u001b[39m \u001b[38;5;28;01mreturn\u001b[39;00m \u001b[43m_read\u001b[49m\u001b[43m(\u001b[49m\u001b[43mfilepath_or_buffer\u001b[49m\u001b[43m,\u001b[49m\u001b[43m \u001b[49m\u001b[43mkwds\u001b[49m\u001b[43m)\u001b[49m\n",
      "\u001b[36mFile \u001b[39m\u001b[32m~/jupyterlab-env/lib/python3.13/site-packages/pandas/io/parsers/readers.py:620\u001b[39m, in \u001b[36m_read\u001b[39m\u001b[34m(filepath_or_buffer, kwds)\u001b[39m\n\u001b[32m    617\u001b[39m _validate_names(kwds.get(\u001b[33m\"\u001b[39m\u001b[33mnames\u001b[39m\u001b[33m\"\u001b[39m, \u001b[38;5;28;01mNone\u001b[39;00m))\n\u001b[32m    619\u001b[39m \u001b[38;5;66;03m# Create the parser.\u001b[39;00m\n\u001b[32m--> \u001b[39m\u001b[32m620\u001b[39m parser = \u001b[43mTextFileReader\u001b[49m\u001b[43m(\u001b[49m\u001b[43mfilepath_or_buffer\u001b[49m\u001b[43m,\u001b[49m\u001b[43m \u001b[49m\u001b[43m*\u001b[49m\u001b[43m*\u001b[49m\u001b[43mkwds\u001b[49m\u001b[43m)\u001b[49m\n\u001b[32m    622\u001b[39m \u001b[38;5;28;01mif\u001b[39;00m chunksize \u001b[38;5;129;01mor\u001b[39;00m iterator:\n\u001b[32m    623\u001b[39m     \u001b[38;5;28;01mreturn\u001b[39;00m parser\n",
      "\u001b[36mFile \u001b[39m\u001b[32m~/jupyterlab-env/lib/python3.13/site-packages/pandas/io/parsers/readers.py:1620\u001b[39m, in \u001b[36mTextFileReader.__init__\u001b[39m\u001b[34m(self, f, engine, **kwds)\u001b[39m\n\u001b[32m   1617\u001b[39m     \u001b[38;5;28mself\u001b[39m.options[\u001b[33m\"\u001b[39m\u001b[33mhas_index_names\u001b[39m\u001b[33m\"\u001b[39m] = kwds[\u001b[33m\"\u001b[39m\u001b[33mhas_index_names\u001b[39m\u001b[33m\"\u001b[39m]\n\u001b[32m   1619\u001b[39m \u001b[38;5;28mself\u001b[39m.handles: IOHandles | \u001b[38;5;28;01mNone\u001b[39;00m = \u001b[38;5;28;01mNone\u001b[39;00m\n\u001b[32m-> \u001b[39m\u001b[32m1620\u001b[39m \u001b[38;5;28mself\u001b[39m._engine = \u001b[38;5;28;43mself\u001b[39;49m\u001b[43m.\u001b[49m\u001b[43m_make_engine\u001b[49m\u001b[43m(\u001b[49m\u001b[43mf\u001b[49m\u001b[43m,\u001b[49m\u001b[43m \u001b[49m\u001b[38;5;28;43mself\u001b[39;49m\u001b[43m.\u001b[49m\u001b[43mengine\u001b[49m\u001b[43m)\u001b[49m\n",
      "\u001b[36mFile \u001b[39m\u001b[32m~/jupyterlab-env/lib/python3.13/site-packages/pandas/io/parsers/readers.py:1880\u001b[39m, in \u001b[36mTextFileReader._make_engine\u001b[39m\u001b[34m(self, f, engine)\u001b[39m\n\u001b[32m   1878\u001b[39m     \u001b[38;5;28;01mif\u001b[39;00m \u001b[33m\"\u001b[39m\u001b[33mb\u001b[39m\u001b[33m\"\u001b[39m \u001b[38;5;129;01mnot\u001b[39;00m \u001b[38;5;129;01min\u001b[39;00m mode:\n\u001b[32m   1879\u001b[39m         mode += \u001b[33m\"\u001b[39m\u001b[33mb\u001b[39m\u001b[33m\"\u001b[39m\n\u001b[32m-> \u001b[39m\u001b[32m1880\u001b[39m \u001b[38;5;28mself\u001b[39m.handles = \u001b[43mget_handle\u001b[49m\u001b[43m(\u001b[49m\n\u001b[32m   1881\u001b[39m \u001b[43m    \u001b[49m\u001b[43mf\u001b[49m\u001b[43m,\u001b[49m\n\u001b[32m   1882\u001b[39m \u001b[43m    \u001b[49m\u001b[43mmode\u001b[49m\u001b[43m,\u001b[49m\n\u001b[32m   1883\u001b[39m \u001b[43m    \u001b[49m\u001b[43mencoding\u001b[49m\u001b[43m=\u001b[49m\u001b[38;5;28;43mself\u001b[39;49m\u001b[43m.\u001b[49m\u001b[43moptions\u001b[49m\u001b[43m.\u001b[49m\u001b[43mget\u001b[49m\u001b[43m(\u001b[49m\u001b[33;43m\"\u001b[39;49m\u001b[33;43mencoding\u001b[39;49m\u001b[33;43m\"\u001b[39;49m\u001b[43m,\u001b[49m\u001b[43m \u001b[49m\u001b[38;5;28;43;01mNone\u001b[39;49;00m\u001b[43m)\u001b[49m\u001b[43m,\u001b[49m\n\u001b[32m   1884\u001b[39m \u001b[43m    \u001b[49m\u001b[43mcompression\u001b[49m\u001b[43m=\u001b[49m\u001b[38;5;28;43mself\u001b[39;49m\u001b[43m.\u001b[49m\u001b[43moptions\u001b[49m\u001b[43m.\u001b[49m\u001b[43mget\u001b[49m\u001b[43m(\u001b[49m\u001b[33;43m\"\u001b[39;49m\u001b[33;43mcompression\u001b[39;49m\u001b[33;43m\"\u001b[39;49m\u001b[43m,\u001b[49m\u001b[43m \u001b[49m\u001b[38;5;28;43;01mNone\u001b[39;49;00m\u001b[43m)\u001b[49m\u001b[43m,\u001b[49m\n\u001b[32m   1885\u001b[39m \u001b[43m    \u001b[49m\u001b[43mmemory_map\u001b[49m\u001b[43m=\u001b[49m\u001b[38;5;28;43mself\u001b[39;49m\u001b[43m.\u001b[49m\u001b[43moptions\u001b[49m\u001b[43m.\u001b[49m\u001b[43mget\u001b[49m\u001b[43m(\u001b[49m\u001b[33;43m\"\u001b[39;49m\u001b[33;43mmemory_map\u001b[39;49m\u001b[33;43m\"\u001b[39;49m\u001b[43m,\u001b[49m\u001b[43m \u001b[49m\u001b[38;5;28;43;01mFalse\u001b[39;49;00m\u001b[43m)\u001b[49m\u001b[43m,\u001b[49m\n\u001b[32m   1886\u001b[39m \u001b[43m    \u001b[49m\u001b[43mis_text\u001b[49m\u001b[43m=\u001b[49m\u001b[43mis_text\u001b[49m\u001b[43m,\u001b[49m\n\u001b[32m   1887\u001b[39m \u001b[43m    \u001b[49m\u001b[43merrors\u001b[49m\u001b[43m=\u001b[49m\u001b[38;5;28;43mself\u001b[39;49m\u001b[43m.\u001b[49m\u001b[43moptions\u001b[49m\u001b[43m.\u001b[49m\u001b[43mget\u001b[49m\u001b[43m(\u001b[49m\u001b[33;43m\"\u001b[39;49m\u001b[33;43mencoding_errors\u001b[39;49m\u001b[33;43m\"\u001b[39;49m\u001b[43m,\u001b[49m\u001b[43m \u001b[49m\u001b[33;43m\"\u001b[39;49m\u001b[33;43mstrict\u001b[39;49m\u001b[33;43m\"\u001b[39;49m\u001b[43m)\u001b[49m\u001b[43m,\u001b[49m\n\u001b[32m   1888\u001b[39m \u001b[43m    \u001b[49m\u001b[43mstorage_options\u001b[49m\u001b[43m=\u001b[49m\u001b[38;5;28;43mself\u001b[39;49m\u001b[43m.\u001b[49m\u001b[43moptions\u001b[49m\u001b[43m.\u001b[49m\u001b[43mget\u001b[49m\u001b[43m(\u001b[49m\u001b[33;43m\"\u001b[39;49m\u001b[33;43mstorage_options\u001b[39;49m\u001b[33;43m\"\u001b[39;49m\u001b[43m,\u001b[49m\u001b[43m \u001b[49m\u001b[38;5;28;43;01mNone\u001b[39;49;00m\u001b[43m)\u001b[49m\u001b[43m,\u001b[49m\n\u001b[32m   1889\u001b[39m \u001b[43m\u001b[49m\u001b[43m)\u001b[49m\n\u001b[32m   1890\u001b[39m \u001b[38;5;28;01massert\u001b[39;00m \u001b[38;5;28mself\u001b[39m.handles \u001b[38;5;129;01mis\u001b[39;00m \u001b[38;5;129;01mnot\u001b[39;00m \u001b[38;5;28;01mNone\u001b[39;00m\n\u001b[32m   1891\u001b[39m f = \u001b[38;5;28mself\u001b[39m.handles.handle\n",
      "\u001b[36mFile \u001b[39m\u001b[32m~/jupyterlab-env/lib/python3.13/site-packages/pandas/io/common.py:873\u001b[39m, in \u001b[36mget_handle\u001b[39m\u001b[34m(path_or_buf, mode, encoding, compression, memory_map, is_text, errors, storage_options)\u001b[39m\n\u001b[32m    868\u001b[39m \u001b[38;5;28;01melif\u001b[39;00m \u001b[38;5;28misinstance\u001b[39m(handle, \u001b[38;5;28mstr\u001b[39m):\n\u001b[32m    869\u001b[39m     \u001b[38;5;66;03m# Check whether the filename is to be opened in binary mode.\u001b[39;00m\n\u001b[32m    870\u001b[39m     \u001b[38;5;66;03m# Binary mode does not support 'encoding' and 'newline'.\u001b[39;00m\n\u001b[32m    871\u001b[39m     \u001b[38;5;28;01mif\u001b[39;00m ioargs.encoding \u001b[38;5;129;01mand\u001b[39;00m \u001b[33m\"\u001b[39m\u001b[33mb\u001b[39m\u001b[33m\"\u001b[39m \u001b[38;5;129;01mnot\u001b[39;00m \u001b[38;5;129;01min\u001b[39;00m ioargs.mode:\n\u001b[32m    872\u001b[39m         \u001b[38;5;66;03m# Encoding\u001b[39;00m\n\u001b[32m--> \u001b[39m\u001b[32m873\u001b[39m         handle = \u001b[38;5;28;43mopen\u001b[39;49m\u001b[43m(\u001b[49m\n\u001b[32m    874\u001b[39m \u001b[43m            \u001b[49m\u001b[43mhandle\u001b[49m\u001b[43m,\u001b[49m\n\u001b[32m    875\u001b[39m \u001b[43m            \u001b[49m\u001b[43mioargs\u001b[49m\u001b[43m.\u001b[49m\u001b[43mmode\u001b[49m\u001b[43m,\u001b[49m\n\u001b[32m    876\u001b[39m \u001b[43m            \u001b[49m\u001b[43mencoding\u001b[49m\u001b[43m=\u001b[49m\u001b[43mioargs\u001b[49m\u001b[43m.\u001b[49m\u001b[43mencoding\u001b[49m\u001b[43m,\u001b[49m\n\u001b[32m    877\u001b[39m \u001b[43m            \u001b[49m\u001b[43merrors\u001b[49m\u001b[43m=\u001b[49m\u001b[43merrors\u001b[49m\u001b[43m,\u001b[49m\n\u001b[32m    878\u001b[39m \u001b[43m            \u001b[49m\u001b[43mnewline\u001b[49m\u001b[43m=\u001b[49m\u001b[33;43m\"\u001b[39;49m\u001b[33;43m\"\u001b[39;49m\u001b[43m,\u001b[49m\n\u001b[32m    879\u001b[39m \u001b[43m        \u001b[49m\u001b[43m)\u001b[49m\n\u001b[32m    880\u001b[39m     \u001b[38;5;28;01melse\u001b[39;00m:\n\u001b[32m    881\u001b[39m         \u001b[38;5;66;03m# Binary mode\u001b[39;00m\n\u001b[32m    882\u001b[39m         handle = \u001b[38;5;28mopen\u001b[39m(handle, ioargs.mode)\n",
      "\u001b[31mFileNotFoundError\u001b[39m: [Errno 2] No such file or directory: '../data/processed/interest_percent_change.csv'"
     ]
    }
   ],
   "source": [
    "# 📥 Load final trend datasets\n",
    "#df_trend = pd.read_csv(\"../data/raw/interest_over_time.csv\")\n",
    "#df_trend_smoothed = pd.read_csv(\"../data/processed/interest_over_time_smoothed.csv\")\n",
    "df_pct_change = pd.read_csv(\"../data/processed/interest_percent_change.csv\")\n",
    "df_top_peaks = pd.read_csv(\"../data/processed/interest_top_peaks.csv\")\n",
    "df_heatmap = pd.read_csv(\"../data/processed/interest_monthly_heatmap.csv\")\n",
    "\n",
    "# ✅ Confirm load\n",
    "print(\"✅ Trend files loaded:\")\n",
    "print(\"📊 df_trend:\", df_trend.shape)\n",
    "print(\"📊 df_trend_smoothed:\", df_trend_smoothed.shape)\n",
    "print(\"📊 df_pct_change:\", df_pct_change.shape)\n",
    "print(\"📊 df_top_peaks:\", df_top_peaks.shape)\n",
    "print(\"📊 df_heatmap:\", df_heatmap.shape)"
   ]
  },
  {
   "cell_type": "code",
   "execution_count": 5,
   "id": "df228b92-dbc2-4973-a018-191739e5619a",
   "metadata": {},
   "outputs": [
    {
     "name": "stdout",
     "output_type": "stream",
     "text": [
      "✅ Country files loaded:\n",
      "🌍 df_country_long: (258, 3)\n",
      "🌍 df_country_pivot: (70, 6)\n",
      "🌍 df_country_coverage: (5, 2)\n",
      "🌍 df_country_total: (5, 2)\n",
      "🌍 df_country_top10: (50, 3)\n",
      "🌍 df_country_share: (258, 4)\n",
      "🌍 df_country_top5: (11, 2)\n"
     ]
    }
   ],
   "source": [
    "# 🌍 Load final country-level datasets\n",
    "df_country_long = pd.read_csv(\"../data/processed/country_interest_long.csv\")\n",
    "df_country_pivot = pd.read_csv(\"../data/processed/country_interest_pivot.csv\")\n",
    "df_country_coverage = pd.read_csv(\"../data/processed/country_num_countries_with_interest.csv\")\n",
    "df_country_total = pd.read_csv(\"../data/processed/country_total_interest_by_keyword.csv\")\n",
    "df_country_top10 = pd.read_csv(\"../data/processed/country_top10_by_keyword.csv\")\n",
    "df_country_share = pd.read_csv(\"../data/processed/country_share_of_interest.csv\")\n",
    "df_country_top5 = pd.read_csv(\"../data/processed/country_top5_appearance_counts.csv\")\n",
    "\n",
    "# ✅ Confirm load\n",
    "print(\"✅ Country files loaded:\")\n",
    "print(\"🌍 df_country_long:\", df_country_long.shape)\n",
    "print(\"🌍 df_country_pivot:\", df_country_pivot.shape)\n",
    "print(\"🌍 df_country_coverage:\", df_country_coverage.shape)\n",
    "print(\"🌍 df_country_total:\", df_country_total.shape)\n",
    "print(\"🌍 df_country_top10:\", df_country_top10.shape)\n",
    "print(\"🌍 df_country_share:\", df_country_share.shape)\n",
    "print(\"🌍 df_country_top5:\", df_country_top5.shape)"
   ]
  },
  {
   "cell_type": "code",
   "execution_count": 4,
   "id": "62365c3f-1723-433a-b367-7a908f660307",
   "metadata": {},
   "outputs": [
    {
     "name": "stdout",
     "output_type": "stream",
     "text": [
      "✅ Related queries files loaded:\n",
      "🔍 df_related_cleaned: (250, 4)\n",
      "🔍 df_related_top10: (50, 4)\n",
      "🔍 df_related_rising10: (50, 4)\n",
      "🔍 df_related_shared: (16, 5)\n",
      "🔍 df_related_keyword_counts: (229, 2)\n"
     ]
    }
   ],
   "source": [
    "# 🔍 Load final related query datasets\n",
    "df_related_cleaned = pd.read_csv(\"../data/processed/related_queries_cleaned.csv\")\n",
    "df_related_top10 = pd.read_csv(\"../data/processed/related_queries_top10.csv\")\n",
    "df_related_rising10 = pd.read_csv(\"../data/processed/related_queries_rising10.csv\")\n",
    "df_related_shared = pd.read_csv(\"../data/processed/related_queries_shared.csv\")\n",
    "df_related_keyword_counts = pd.read_csv(\"../data/processed/related_query_keyword_counts.csv\")\n",
    "\n",
    "# ✅ Confirm load\n",
    "print(\"✅ Related queries files loaded:\")\n",
    "print(\"🔍 df_related_cleaned:\", df_related_cleaned.shape)\n",
    "print(\"🔍 df_related_top10:\", df_related_top10.shape)\n",
    "print(\"🔍 df_related_rising10:\", df_related_rising10.shape)\n",
    "print(\"🔍 df_related_shared:\", df_related_shared.shape)\n",
    "print(\"🔍 df_related_keyword_counts:\", df_related_keyword_counts.shape)"
   ]
  },
  {
   "cell_type": "code",
   "execution_count": 3,
   "id": "c3e7fdd9-fa30-48e1-b9d7-702255fa107b",
   "metadata": {},
   "outputs": [],
   "source": [
    "import pandas as pd\n",
    "\n",
    "# Load the raw data\n",
    "df_trend = pd.read_csv(\"../data/raw/interest_over_time.csv\", index_col=0)\n",
    "\n",
    "# Ensure index isn't included as a column\n",
    "df_trend.index.name = None  # remove index name if it exists\n",
    "df_trend.reset_index(drop=True, inplace=True)\n",
    "\n",
    "# Melt into long format\n",
    "df_trend[\"date\"] = pd.date_range(start=\"2020-07-26\", periods=len(df_trend), freq=\"W-SUN\")  # Or load from original if available\n",
    "df_trend_long = df_trend.melt(id_vars=\"date\", var_name=\"keyword\", value_name=\"search_interest\")\n",
    "\n",
    "# Save\n",
    "df_trend_long.to_csv(\"../data/streamlit/global_trend_summary.csv\", index=False)"
   ]
  },
  {
   "cell_type": "code",
   "execution_count": 5,
   "id": "639f13a7-2603-46a1-8e4f-2241343b814d",
   "metadata": {},
   "outputs": [],
   "source": [
    "# 📁 1. Flatten interest_over_time for Tableau\n",
    "# Purpose: Save cleaned trend analysis outputs to processed data folder\n",
    "os.makedirs(\"../data/streamlit\", exist_ok=True)\n",
    "\n",
    "df_trend_long = df_trend.reset_index().melt(id_vars=\"date\", var_name=\"keyword\", value_name=\"search_interest\")\n",
    "df_trend_long.to_csv(\"../data/streamlit/global_trend_summary.csv\", index=False)\n",
    "\n",
    "# 📁 2. Save percent change over time\n",
    "df_pct_change.columns = [\"keyword\", \"percent_change\"]\n",
    "df_pct_change.to_csv(\"../data/streamlit/trend_pct_change.csv\", index=False)\n",
    "\n",
    "# 📁 3. Save top peaks per keyword\n",
    "df_top_peaks_out = df_top_peaks[[\"date\", \"keyword\", \"search_interest\"]].copy()\n",
    "df_top_peaks_out.to_csv(\"../data/streamlit/trend_top_peaks.csv\", index=False)"
   ]
  },
  {
   "cell_type": "code",
   "execution_count": 6,
   "id": "3accf2e6-c309-4d6d-8fb0-86f8f416ef34",
   "metadata": {},
   "outputs": [],
   "source": [
    "# 📁 1. Save long-form country interest data\n",
    "df_country_long.to_csv(\"../data/streamlit/country_interest_summary.csv\", index=False)\n",
    "\n",
    "# 📁 2. Save total interest by keyword\n",
    "df_country_total.to_csv(\"../data/streamlit/country_total_interest_by_keyword.csv\", index=False)\n",
    "\n",
    "# 📁 3. Save country appearance count in top 5 lists\n",
    "df_country_top5.to_csv(\"../data/streamlit/country_top5_appearance_counts.csv\", index=False)"
   ]
  },
  {
   "cell_type": "code",
   "execution_count": 7,
   "id": "58fd6b22-b9e4-4d21-88b0-8cf5ecd72a5f",
   "metadata": {},
   "outputs": [],
   "source": [
    "# 📁 1. Save top 10 related queries per keyword\n",
    "df_related_top10.to_csv(\"../data/streamlit/related_queries_top10.csv\", index=False)\n",
    "\n",
    "# 📁 2. Save rising related queries per keyword\n",
    "df_related_rising10.to_csv(\"../data/streamlit/related_queries_rising10.csv\", index=False)\n",
    "\n",
    "# 📁 3. Save shared related queries across keywords\n",
    "df_related_shared.to_csv(\"../data/streamlit/related_queries_shared.csv\", index=False)"
   ]
  },
  {
   "cell_type": "code",
   "execution_count": 10,
   "id": "1c7dd47d-192e-4334-95cd-262a7fc9e006",
   "metadata": {},
   "outputs": [],
   "source": [
    "# ✅ FIXED version that handles 3 columns\n",
    "df_country_top5_fixed = df_country_top5.reset_index()\n",
    "df_country_top5_fixed.columns = ['keyword', 'country', 'total_interest']  # Adjust to actual column names\n",
    "\n",
    "# Save to Streamlit folder\n",
    "df_country_top5_fixed.to_csv(\"../data/streamlit/country_top5_appearance_counts.csv\", index=False)"
   ]
  },
  {
   "cell_type": "code",
   "execution_count": 3,
   "id": "a4197deb-f9b0-41f7-bb48-74c39894b49b",
   "metadata": {},
   "outputs": [
    {
     "name": "stdout",
     "output_type": "stream",
     "text": [
      "\n",
      "--- Checking: country_interest_summary.csv ---\n",
      "✅ Loaded successfully | Shape: (350, 3)\n",
      "🧾 Columns: ['country', 'keyword', 'interest']\n",
      "🔍 Sample row:\n",
      "      country     keyword  interest\n",
      "0  Argentina  breathwork       3.0\n",
      "⚠️ Missing expected columns: ['date']\n",
      "\n",
      "--- Checking: country_total_interest_by_keyword.csv ---\n",
      "✅ Loaded successfully | Shape: (350, 3)\n",
      "🧾 Columns: ['country', 'keyword', 'total_interest']\n",
      "🔍 Sample row:\n",
      "      country     keyword  total_interest\n",
      "0  Argentina  breathwork             3.0\n",
      "✅ All expected columns present.\n",
      "\n",
      "--- Checking: country_top5_appearance_counts.csv ---\n",
      "✅ Loaded successfully | Shape: (11, 3)\n",
      "🧾 Columns: ['keyword', 'country', 'top5_count']\n",
      "🔍 Sample row:\n",
      "    keyword  country  top5_count\n",
      "0        0  Ireland           5\n",
      "✅ All expected columns present.\n"
     ]
    }
   ],
   "source": [
    "# ✅ Diagnostic check for all 3 country-level datasets for Streamlit\n",
    "\n",
    "import pandas as pd\n",
    "\n",
    "DATA_PATH = \"../data/streamlit\"\n",
    "\n",
    "# --- 1. country_interest_summary.csv ---\n",
    "print(\"\\n--- Checking: country_interest_summary.csv ---\")\n",
    "try:\n",
    "    df1 = pd.read_csv(f\"{DATA_PATH}/country_interest_summary.csv\")\n",
    "    print(f\"✅ Loaded successfully | Shape: {df1.shape}\")\n",
    "    print(\"🧾 Columns:\", df1.columns.tolist())\n",
    "    print(\"🔍 Sample row:\\n\", df1.head(1))\n",
    "    \n",
    "    expected_cols = {'country', 'keyword', 'date', 'interest'}\n",
    "    missing = expected_cols - set(df1.columns)\n",
    "    if missing:\n",
    "        print(f\"⚠️ Missing expected columns: {list(missing)}\")\n",
    "    else:\n",
    "        print(\"✅ All expected columns present.\")\n",
    "\n",
    "except Exception as e:\n",
    "    print(\"❌ Error loading file:\", e)\n",
    "\n",
    "# --- 2. country_total_interest_by_keyword.csv ---\n",
    "print(\"\\n--- Checking: country_total_interest_by_keyword.csv ---\")\n",
    "try:\n",
    "    df2 = pd.read_csv(f\"{DATA_PATH}/country_total_interest_by_keyword.csv\")\n",
    "    print(f\"✅ Loaded successfully | Shape: {df2.shape}\")\n",
    "    print(\"🧾 Columns:\", df2.columns.tolist())\n",
    "    print(\"🔍 Sample row:\\n\", df2.head(1))\n",
    "    \n",
    "    expected_cols = {'country', 'keyword', 'total_interest'}\n",
    "    missing = expected_cols - set(df2.columns)\n",
    "    if missing:\n",
    "        print(f\"⚠️ Missing expected columns: {list(missing)}\")\n",
    "    else:\n",
    "        print(\"✅ All expected columns present.\")\n",
    "        \n",
    "except Exception as e:\n",
    "    print(\"❌ Error loading file:\", e)\n",
    "\n",
    "# --- 3. country_top5_appearance_counts.csv ---\n",
    "print(\"\\n--- Checking: country_top5_appearance_counts.csv ---\")\n",
    "try:\n",
    "    df3 = pd.read_csv(f\"{DATA_PATH}/country_top5_appearance_counts.csv\")\n",
    "    print(f\"✅ Loaded successfully | Shape: {df3.shape}\")\n",
    "    print(\"🧾 Columns:\", df3.columns.tolist())\n",
    "    print(\"🔍 Sample row:\\n\", df3.head(1))\n",
    "    \n",
    "    expected_cols = {'keyword', 'country', 'top5_count'}\n",
    "    missing = expected_cols - set(df3.columns)\n",
    "    if missing:\n",
    "        print(f\"⚠️ Missing expected columns: {list(missing)}\")\n",
    "    else:\n",
    "        print(\"✅ All expected columns present.\")\n",
    "        \n",
    "except Exception as e:\n",
    "    print(\"❌ Error loading file:\", e)"
   ]
  },
  {
   "cell_type": "code",
   "execution_count": 9,
   "id": "ccb42b35-b1a3-4095-826f-ccf2e64ab67f",
   "metadata": {},
   "outputs": [
    {
     "name": "stdout",
     "output_type": "stream",
     "text": [
      "✅ Saved: country_top5_appearance_counts.csv\n"
     ]
    }
   ],
   "source": [
    "# ✅ Reload base data: long-form interest data\n",
    "df_country_long = pd.read_csv(\"../data/streamlit/country_interest_summary.csv\")\n",
    "\n",
    "# 🧼 Clean keyword and country columns\n",
    "df_country_long[\"keyword\"] = df_country_long[\"keyword\"].astype(str).str.strip().str.lower()\n",
    "df_country_long[\"country\"] = df_country_long[\"country\"].astype(str).str.strip()\n",
    "\n",
    "# ✅ Count how many times each country appeared in the Top 5 for each keyword\n",
    "df_top5 = (\n",
    "    df_country_long\n",
    "    .sort_values(\"interest\", ascending=False)\n",
    "    .groupby(\"keyword\")\n",
    "    .head(5)  # Take top 5 rows per keyword\n",
    "    .groupby([\"keyword\", \"country\"])\n",
    "    .size()\n",
    "    .reset_index(name=\"top5_count\")\n",
    ")\n",
    "\n",
    "# 💾 Save cleaned version\n",
    "df_top5.to_csv(\"../data/streamlit/country_top5_appearance_counts.csv\", index=False)\n",
    "print(\"✅ Saved: country_top5_appearance_counts.csv\")"
   ]
  },
  {
   "cell_type": "code",
   "execution_count": 11,
   "id": "09db37e2-b6ea-4c02-b2a2-8f28f321ce4f",
   "metadata": {},
   "outputs": [
    {
     "name": "stdout",
     "output_type": "stream",
     "text": [
      "Collecting emoji\n",
      "  Downloading emoji-2.14.1-py3-none-any.whl.metadata (5.7 kB)\n",
      "Downloading emoji-2.14.1-py3-none-any.whl (590 kB)\n",
      "\u001b[2K   \u001b[90m━━━━━━━━━━━━━━━━━━━━━━━━━━━━━━━━━━━━━━━━\u001b[0m \u001b[32m590.6/590.6 kB\u001b[0m \u001b[31m13.1 MB/s\u001b[0m eta \u001b[36m0:00:00\u001b[0m\n",
      "\u001b[?25hInstalling collected packages: emoji\n",
      "Successfully installed emoji-2.14.1\n",
      "\n",
      "\u001b[1m[\u001b[0m\u001b[34;49mnotice\u001b[0m\u001b[1;39;49m]\u001b[0m\u001b[39;49m A new release of pip is available: \u001b[0m\u001b[31;49m25.1.1\u001b[0m\u001b[39;49m -> \u001b[0m\u001b[32;49m25.2\u001b[0m\n",
      "\u001b[1m[\u001b[0m\u001b[34;49mnotice\u001b[0m\u001b[1;39;49m]\u001b[0m\u001b[39;49m To update, run: \u001b[0m\u001b[32;49mpip install --upgrade pip\u001b[0m\n"
     ]
    }
   ],
   "source": [
    "!pip install emoji"
   ]
  },
  {
   "cell_type": "code",
   "execution_count": 3,
   "id": "e224694e-a111-4d06-9e9d-9a85d8782c57",
   "metadata": {},
   "outputs": [
    {
     "data": {
      "text/plain": [
       "keyword\n",
       "breathwork           10\n",
       "guided meditation    10\n",
       "meditation           10\n",
       "mindfulness          10\n",
       "yoga nidra           10\n",
       "Name: count, dtype: int64"
      ]
     },
     "execution_count": 3,
     "metadata": {},
     "output_type": "execute_result"
    }
   ],
   "source": [
    "df_rising = pd.read_csv(\"../data/streamlit/related_queries_rising10.csv\")\n",
    "df_rising[\"keyword\"].value_counts()"
   ]
  },
  {
   "cell_type": "code",
   "execution_count": 6,
   "id": "66c90a10-4f96-4428-9791-77927110c6b7",
   "metadata": {},
   "outputs": [
    {
     "name": "stdout",
     "output_type": "stream",
     "text": [
      "['keyword', 'related_query', 'query_type', 'popularity_score', 'num_keywords']\n"
     ]
    }
   ],
   "source": [
    "print(df_related_shared.columns.tolist())"
   ]
  },
  {
   "cell_type": "code",
   "execution_count": 9,
   "id": "766ebf0f-9d27-4ebb-9045-b3afadef8b59",
   "metadata": {},
   "outputs": [],
   "source": [
    "df = pd.read_csv(\"../data/streamlit/country_top5_appearance_counts.csv\")"
   ]
  },
  {
   "cell_type": "code",
   "execution_count": 11,
   "id": "29c1a3e1-133a-486d-bbe5-05b69f9da53a",
   "metadata": {},
   "outputs": [
    {
     "data": {
      "text/html": [
       "<div>\n",
       "<style scoped>\n",
       "    .dataframe tbody tr th:only-of-type {\n",
       "        vertical-align: middle;\n",
       "    }\n",
       "\n",
       "    .dataframe tbody tr th {\n",
       "        vertical-align: top;\n",
       "    }\n",
       "\n",
       "    .dataframe thead th {\n",
       "        text-align: right;\n",
       "    }\n",
       "</style>\n",
       "<table border=\"1\" class=\"dataframe\">\n",
       "  <thead>\n",
       "    <tr style=\"text-align: right;\">\n",
       "      <th></th>\n",
       "      <th>keyword</th>\n",
       "      <th>country</th>\n",
       "      <th>top5_count</th>\n",
       "    </tr>\n",
       "  </thead>\n",
       "  <tbody>\n",
       "    <tr>\n",
       "      <th>0</th>\n",
       "      <td>breathwork</td>\n",
       "      <td>Australia</td>\n",
       "      <td>1</td>\n",
       "    </tr>\n",
       "    <tr>\n",
       "      <th>1</th>\n",
       "      <td>breathwork</td>\n",
       "      <td>Ireland</td>\n",
       "      <td>1</td>\n",
       "    </tr>\n",
       "    <tr>\n",
       "      <th>2</th>\n",
       "      <td>breathwork</td>\n",
       "      <td>Netherlands</td>\n",
       "      <td>1</td>\n",
       "    </tr>\n",
       "    <tr>\n",
       "      <th>3</th>\n",
       "      <td>breathwork</td>\n",
       "      <td>New Zealand</td>\n",
       "      <td>1</td>\n",
       "    </tr>\n",
       "    <tr>\n",
       "      <th>4</th>\n",
       "      <td>breathwork</td>\n",
       "      <td>Switzerland</td>\n",
       "      <td>1</td>\n",
       "    </tr>\n",
       "    <tr>\n",
       "      <th>5</th>\n",
       "      <td>guided meditation</td>\n",
       "      <td>Australia</td>\n",
       "      <td>1</td>\n",
       "    </tr>\n",
       "    <tr>\n",
       "      <th>6</th>\n",
       "      <td>guided meditation</td>\n",
       "      <td>Canada</td>\n",
       "      <td>1</td>\n",
       "    </tr>\n",
       "    <tr>\n",
       "      <th>7</th>\n",
       "      <td>guided meditation</td>\n",
       "      <td>Ireland</td>\n",
       "      <td>1</td>\n",
       "    </tr>\n",
       "    <tr>\n",
       "      <th>8</th>\n",
       "      <td>guided meditation</td>\n",
       "      <td>New Zealand</td>\n",
       "      <td>1</td>\n",
       "    </tr>\n",
       "    <tr>\n",
       "      <th>9</th>\n",
       "      <td>guided meditation</td>\n",
       "      <td>United Kingdom</td>\n",
       "      <td>1</td>\n",
       "    </tr>\n",
       "    <tr>\n",
       "      <th>10</th>\n",
       "      <td>meditation</td>\n",
       "      <td>Australia</td>\n",
       "      <td>1</td>\n",
       "    </tr>\n",
       "    <tr>\n",
       "      <th>11</th>\n",
       "      <td>meditation</td>\n",
       "      <td>Canada</td>\n",
       "      <td>1</td>\n",
       "    </tr>\n",
       "    <tr>\n",
       "      <th>12</th>\n",
       "      <td>meditation</td>\n",
       "      <td>Ireland</td>\n",
       "      <td>1</td>\n",
       "    </tr>\n",
       "    <tr>\n",
       "      <th>13</th>\n",
       "      <td>meditation</td>\n",
       "      <td>New Zealand</td>\n",
       "      <td>1</td>\n",
       "    </tr>\n",
       "    <tr>\n",
       "      <th>14</th>\n",
       "      <td>meditation</td>\n",
       "      <td>Switzerland</td>\n",
       "      <td>1</td>\n",
       "    </tr>\n",
       "    <tr>\n",
       "      <th>15</th>\n",
       "      <td>mindfulness</td>\n",
       "      <td>Australia</td>\n",
       "      <td>1</td>\n",
       "    </tr>\n",
       "    <tr>\n",
       "      <th>16</th>\n",
       "      <td>mindfulness</td>\n",
       "      <td>Denmark</td>\n",
       "      <td>1</td>\n",
       "    </tr>\n",
       "    <tr>\n",
       "      <th>17</th>\n",
       "      <td>mindfulness</td>\n",
       "      <td>Ireland</td>\n",
       "      <td>1</td>\n",
       "    </tr>\n",
       "    <tr>\n",
       "      <th>18</th>\n",
       "      <td>mindfulness</td>\n",
       "      <td>Netherlands</td>\n",
       "      <td>1</td>\n",
       "    </tr>\n",
       "    <tr>\n",
       "      <th>19</th>\n",
       "      <td>mindfulness</td>\n",
       "      <td>Spain</td>\n",
       "      <td>1</td>\n",
       "    </tr>\n",
       "    <tr>\n",
       "      <th>20</th>\n",
       "      <td>yoga nidra</td>\n",
       "      <td>Iceland</td>\n",
       "      <td>1</td>\n",
       "    </tr>\n",
       "    <tr>\n",
       "      <th>21</th>\n",
       "      <td>yoga nidra</td>\n",
       "      <td>Ireland</td>\n",
       "      <td>1</td>\n",
       "    </tr>\n",
       "    <tr>\n",
       "      <th>22</th>\n",
       "      <td>yoga nidra</td>\n",
       "      <td>Netherlands</td>\n",
       "      <td>1</td>\n",
       "    </tr>\n",
       "    <tr>\n",
       "      <th>23</th>\n",
       "      <td>yoga nidra</td>\n",
       "      <td>Sweden</td>\n",
       "      <td>1</td>\n",
       "    </tr>\n",
       "    <tr>\n",
       "      <th>24</th>\n",
       "      <td>yoga nidra</td>\n",
       "      <td>Switzerland</td>\n",
       "      <td>1</td>\n",
       "    </tr>\n",
       "  </tbody>\n",
       "</table>\n",
       "</div>"
      ],
      "text/plain": [
       "              keyword         country  top5_count\n",
       "0          breathwork       Australia           1\n",
       "1          breathwork         Ireland           1\n",
       "2          breathwork     Netherlands           1\n",
       "3          breathwork     New Zealand           1\n",
       "4          breathwork     Switzerland           1\n",
       "5   guided meditation       Australia           1\n",
       "6   guided meditation          Canada           1\n",
       "7   guided meditation         Ireland           1\n",
       "8   guided meditation     New Zealand           1\n",
       "9   guided meditation  United Kingdom           1\n",
       "10         meditation       Australia           1\n",
       "11         meditation          Canada           1\n",
       "12         meditation         Ireland           1\n",
       "13         meditation     New Zealand           1\n",
       "14         meditation     Switzerland           1\n",
       "15        mindfulness       Australia           1\n",
       "16        mindfulness         Denmark           1\n",
       "17        mindfulness         Ireland           1\n",
       "18        mindfulness     Netherlands           1\n",
       "19        mindfulness           Spain           1\n",
       "20         yoga nidra         Iceland           1\n",
       "21         yoga nidra         Ireland           1\n",
       "22         yoga nidra     Netherlands           1\n",
       "23         yoga nidra          Sweden           1\n",
       "24         yoga nidra     Switzerland           1"
      ]
     },
     "execution_count": 11,
     "metadata": {},
     "output_type": "execute_result"
    }
   ],
   "source": [
    "df"
   ]
  },
  {
   "cell_type": "code",
   "execution_count": null,
   "id": "c538d064-1c1d-409c-b528-9d5075ec246a",
   "metadata": {},
   "outputs": [],
   "source": []
  }
 ],
 "metadata": {
  "kernelspec": {
   "display_name": "Python 3 (ipykernel)",
   "language": "python",
   "name": "python3"
  },
  "language_info": {
   "codemirror_mode": {
    "name": "ipython",
    "version": 3
   },
   "file_extension": ".py",
   "mimetype": "text/x-python",
   "name": "python",
   "nbconvert_exporter": "python",
   "pygments_lexer": "ipython3",
   "version": "3.13.3"
  }
 },
 "nbformat": 4,
 "nbformat_minor": 5
}
