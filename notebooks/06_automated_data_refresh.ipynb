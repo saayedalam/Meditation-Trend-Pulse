{
 "cells": [
  {
   "cell_type": "code",
   "execution_count": 26,
   "id": "dd7c4cc9-7717-455b-ab68-fe8f1aa3288a",
   "metadata": {},
   "outputs": [],
   "source": [
    "# 🔄 Purpose: Fetch latest weekly data for the 5 keywords from Google Trends (weekly granularity only)\n",
    "\n",
    "from pytrends.request import TrendReq\n",
    "import pandas as pd\n",
    "from datetime import date"
   ]
  },
  {
   "cell_type": "code",
   "execution_count": 27,
   "id": "7388bfff-fc0d-4ec6-a2bb-c9e964027e4c",
   "metadata": {},
   "outputs": [],
   "source": [
    "# Define keywords and timeframe\n",
    "keywords = [\"meditation\", \"mindfulness\", \"breathwork\", \"guided meditation\", \"yoga nidra\"]\n",
    "today = date.today().strftime(\"%Y-%m-%d\")\n",
    "timeframe = \"today 5-y\""
   ]
  },
  {
   "cell_type": "code",
   "execution_count": 28,
   "id": "7c31f0f8-343a-45f3-bf45-d001c53e42b8",
   "metadata": {},
   "outputs": [],
   "source": [
    "# Initialize pytrends and build payload\n",
    "pytrends = TrendReq(hl=\"en-US\", tz=360)\n",
    "pytrends.build_payload(keywords, cat=0, timeframe=timeframe, geo=\"\", gprop=\"\")"
   ]
  },
  {
   "cell_type": "code",
   "execution_count": 29,
   "id": "5888068b-fc5a-4674-bcbd-6757e33527e8",
   "metadata": {},
   "outputs": [
    {
     "name": "stderr",
     "output_type": "stream",
     "text": [
      "/Users/saayedalam/jupyterlab-env/lib/python3.13/site-packages/pytrends/request.py:260: FutureWarning: Downcasting object dtype arrays on .fillna, .ffill, .bfill is deprecated and will change in a future version. Call result.infer_objects(copy=False) instead. To opt-in to the future behavior, set `pd.set_option('future.no_silent_downcasting', True)`\n",
      "  df = df.fillna(False)\n"
     ]
    }
   ],
   "source": [
    "# Fetch interest over time\n",
    "df_weekly = pytrends.interest_over_time()"
   ]
  },
  {
   "cell_type": "code",
   "execution_count": 30,
   "id": "f9cdfabd-5502-45ea-b80f-a88b8c722724",
   "metadata": {},
   "outputs": [],
   "source": [
    "# Drop 'isPartial' column if it exists\n",
    "if 'isPartial' in df_weekly.columns:\n",
    "    df_weekly = df_weekly[~df_weekly['isPartial']]\n",
    "    df_weekly.drop(columns='isPartial', inplace=True)"
   ]
  },
  {
   "cell_type": "code",
   "execution_count": 31,
   "id": "7dc48a3e-6c1d-49f1-9eff-7908df4ad8e4",
   "metadata": {},
   "outputs": [],
   "source": [
    "# Reshape to long format\n",
    "df_weekly = df_weekly.reset_index().melt(id_vars=[\"date\"], var_name=\"keyword\", value_name=\"search_interest\")"
   ]
  },
  {
   "cell_type": "code",
   "execution_count": 32,
   "id": "e8bab452-3606-4e2f-8267-932efcb8451d",
   "metadata": {},
   "outputs": [],
   "source": [
    "# Filter for just the most recent week (latest date only)\n",
    "latest_date = df_weekly[\"date\"].max()\n",
    "df_latest_week = df_weekly[df_weekly[\"date\"] == latest_date].copy()"
   ]
  },
  {
   "cell_type": "code",
   "execution_count": 33,
   "id": "fe3a0dec-72ba-4c2a-a47c-9041102924df",
   "metadata": {},
   "outputs": [
    {
     "name": "stdout",
     "output_type": "stream",
     "text": [
      "✅ Pulled weekly data for: 2025-08-03\n"
     ]
    },
    {
     "data": {
      "text/html": [
       "<div>\n",
       "<style scoped>\n",
       "    .dataframe tbody tr th:only-of-type {\n",
       "        vertical-align: middle;\n",
       "    }\n",
       "\n",
       "    .dataframe tbody tr th {\n",
       "        vertical-align: top;\n",
       "    }\n",
       "\n",
       "    .dataframe thead th {\n",
       "        text-align: right;\n",
       "    }\n",
       "</style>\n",
       "<table border=\"1\" class=\"dataframe\">\n",
       "  <thead>\n",
       "    <tr style=\"text-align: right;\">\n",
       "      <th></th>\n",
       "      <th>date</th>\n",
       "      <th>keyword</th>\n",
       "      <th>search_interest</th>\n",
       "    </tr>\n",
       "  </thead>\n",
       "  <tbody>\n",
       "    <tr>\n",
       "      <th>260</th>\n",
       "      <td>2025-08-03</td>\n",
       "      <td>meditation</td>\n",
       "      <td>78</td>\n",
       "    </tr>\n",
       "    <tr>\n",
       "      <th>521</th>\n",
       "      <td>2025-08-03</td>\n",
       "      <td>mindfulness</td>\n",
       "      <td>22</td>\n",
       "    </tr>\n",
       "    <tr>\n",
       "      <th>782</th>\n",
       "      <td>2025-08-03</td>\n",
       "      <td>breathwork</td>\n",
       "      <td>4</td>\n",
       "    </tr>\n",
       "    <tr>\n",
       "      <th>1043</th>\n",
       "      <td>2025-08-03</td>\n",
       "      <td>guided meditation</td>\n",
       "      <td>5</td>\n",
       "    </tr>\n",
       "    <tr>\n",
       "      <th>1304</th>\n",
       "      <td>2025-08-03</td>\n",
       "      <td>yoga nidra</td>\n",
       "      <td>3</td>\n",
       "    </tr>\n",
       "  </tbody>\n",
       "</table>\n",
       "</div>"
      ],
      "text/plain": [
       "           date            keyword  search_interest\n",
       "260  2025-08-03         meditation               78\n",
       "521  2025-08-03        mindfulness               22\n",
       "782  2025-08-03         breathwork                4\n",
       "1043 2025-08-03  guided meditation                5\n",
       "1304 2025-08-03         yoga nidra                3"
      ]
     },
     "execution_count": 33,
     "metadata": {},
     "output_type": "execute_result"
    }
   ],
   "source": [
    "# Preview result\n",
    "print(f\"✅ Pulled weekly data for: {latest_date.date()}\")\n",
    "df_latest_week"
   ]
  },
  {
   "cell_type": "code",
   "execution_count": 34,
   "id": "30f4771e-68c8-4281-b309-02cd76857dc9",
   "metadata": {},
   "outputs": [
    {
     "name": "stdout",
     "output_type": "stream",
     "text": [
      "✅ Appended new week: 2025-08-03\n"
     ]
    }
   ],
   "source": [
    "# 🔄 Purpose: Preview what the dataset will look like after appending new data\n",
    "\n",
    "# Load the existing dataset\n",
    "path_existing = \"../data/streamlit/global_trend_summary.csv\"\n",
    "df_existing = pd.read_csv(path_existing, parse_dates=[\"date\"])\n",
    "\n",
    "# Check if this date is already present\n",
    "latest_date = df_latest_week[\"date\"].iloc[0]\n",
    "if latest_date in df_existing[\"date\"].unique():\n",
    "    print(f\"⚠️ Date {latest_date.date()} already exists in dataset. Skipping append.\")\n",
    "    df_preview = df_existing.copy()\n",
    "else:\n",
    "    # Append new row\n",
    "    df_preview = pd.concat([df_existing, df_latest_week], ignore_index=True)\n",
    "    print(f\"✅ Appended new week: {latest_date.date()}\")"
   ]
  },
  {
   "cell_type": "code",
   "execution_count": 35,
   "id": "dfc78efc-b617-4b30-a0fd-b36fe95e6a1f",
   "metadata": {},
   "outputs": [
    {
     "data": {
      "text/html": [
       "<div>\n",
       "<style scoped>\n",
       "    .dataframe tbody tr th:only-of-type {\n",
       "        vertical-align: middle;\n",
       "    }\n",
       "\n",
       "    .dataframe tbody tr th {\n",
       "        vertical-align: top;\n",
       "    }\n",
       "\n",
       "    .dataframe thead th {\n",
       "        text-align: right;\n",
       "    }\n",
       "</style>\n",
       "<table border=\"1\" class=\"dataframe\">\n",
       "  <thead>\n",
       "    <tr style=\"text-align: right;\">\n",
       "      <th></th>\n",
       "      <th>date</th>\n",
       "      <th>keyword</th>\n",
       "      <th>search_interest</th>\n",
       "    </tr>\n",
       "  </thead>\n",
       "  <tbody>\n",
       "    <tr>\n",
       "      <th>1305</th>\n",
       "      <td>2025-07-27</td>\n",
       "      <td>breathwork</td>\n",
       "      <td>3</td>\n",
       "    </tr>\n",
       "    <tr>\n",
       "      <th>1306</th>\n",
       "      <td>2025-07-27</td>\n",
       "      <td>guided meditation</td>\n",
       "      <td>4</td>\n",
       "    </tr>\n",
       "    <tr>\n",
       "      <th>1307</th>\n",
       "      <td>2025-07-27</td>\n",
       "      <td>meditation</td>\n",
       "      <td>69</td>\n",
       "    </tr>\n",
       "    <tr>\n",
       "      <th>1308</th>\n",
       "      <td>2025-07-27</td>\n",
       "      <td>mindfulness</td>\n",
       "      <td>19</td>\n",
       "    </tr>\n",
       "    <tr>\n",
       "      <th>1309</th>\n",
       "      <td>2025-07-27</td>\n",
       "      <td>yoga nidra</td>\n",
       "      <td>3</td>\n",
       "    </tr>\n",
       "    <tr>\n",
       "      <th>1310</th>\n",
       "      <td>2025-08-03</td>\n",
       "      <td>breathwork</td>\n",
       "      <td>4</td>\n",
       "    </tr>\n",
       "    <tr>\n",
       "      <th>1311</th>\n",
       "      <td>2025-08-03</td>\n",
       "      <td>guided meditation</td>\n",
       "      <td>5</td>\n",
       "    </tr>\n",
       "    <tr>\n",
       "      <th>1312</th>\n",
       "      <td>2025-08-03</td>\n",
       "      <td>meditation</td>\n",
       "      <td>78</td>\n",
       "    </tr>\n",
       "    <tr>\n",
       "      <th>1313</th>\n",
       "      <td>2025-08-03</td>\n",
       "      <td>mindfulness</td>\n",
       "      <td>22</td>\n",
       "    </tr>\n",
       "    <tr>\n",
       "      <th>1314</th>\n",
       "      <td>2025-08-03</td>\n",
       "      <td>yoga nidra</td>\n",
       "      <td>3</td>\n",
       "    </tr>\n",
       "  </tbody>\n",
       "</table>\n",
       "</div>"
      ],
      "text/plain": [
       "           date            keyword  search_interest\n",
       "1305 2025-07-27         breathwork                3\n",
       "1306 2025-07-27  guided meditation                4\n",
       "1307 2025-07-27         meditation               69\n",
       "1308 2025-07-27        mindfulness               19\n",
       "1309 2025-07-27         yoga nidra                3\n",
       "1310 2025-08-03         breathwork                4\n",
       "1311 2025-08-03  guided meditation                5\n",
       "1312 2025-08-03         meditation               78\n",
       "1313 2025-08-03        mindfulness               22\n",
       "1314 2025-08-03         yoga nidra                3"
      ]
     },
     "execution_count": 35,
     "metadata": {},
     "output_type": "execute_result"
    }
   ],
   "source": [
    "# Sort and preview\n",
    "df_preview = df_preview.sort_values([\"date\", \"keyword\"]).reset_index(drop=True)\n",
    "df_preview.tail(10)"
   ]
  },
  {
   "cell_type": "code",
   "execution_count": 37,
   "id": "096a831a-6afd-497c-8a5a-d06ffcb89746",
   "metadata": {},
   "outputs": [
    {
     "name": "stdout",
     "output_type": "stream",
     "text": [
      "✅ File successfully saved at: ../data/streamlit/global_trend_summary.csv\n"
     ]
    }
   ],
   "source": [
    "# ✅ Save the updated global trend dataset using the correct DataFrame\n",
    "df_preview.to_csv(\"../data/streamlit/global_trend_summary.csv\", index=False)\n",
    "print(\"✅ File successfully saved at: ../data/streamlit/global_trend_summary.csv\")"
   ]
  },
  {
   "cell_type": "code",
   "execution_count": 38,
   "id": "7bac28ef-856c-4fd2-8f86-d24baa31c661",
   "metadata": {},
   "outputs": [
    {
     "data": {
      "text/html": [
       "<div>\n",
       "<style scoped>\n",
       "    .dataframe tbody tr th:only-of-type {\n",
       "        vertical-align: middle;\n",
       "    }\n",
       "\n",
       "    .dataframe tbody tr th {\n",
       "        vertical-align: top;\n",
       "    }\n",
       "\n",
       "    .dataframe thead th {\n",
       "        text-align: right;\n",
       "    }\n",
       "</style>\n",
       "<table border=\"1\" class=\"dataframe\">\n",
       "  <thead>\n",
       "    <tr style=\"text-align: right;\">\n",
       "      <th></th>\n",
       "      <th>date</th>\n",
       "      <th>keyword</th>\n",
       "      <th>search_interest</th>\n",
       "    </tr>\n",
       "  </thead>\n",
       "  <tbody>\n",
       "    <tr>\n",
       "      <th>1314</th>\n",
       "      <td>2025-08-03</td>\n",
       "      <td>yoga nidra</td>\n",
       "      <td>3</td>\n",
       "    </tr>\n",
       "    <tr>\n",
       "      <th>1313</th>\n",
       "      <td>2025-08-03</td>\n",
       "      <td>mindfulness</td>\n",
       "      <td>22</td>\n",
       "    </tr>\n",
       "    <tr>\n",
       "      <th>1312</th>\n",
       "      <td>2025-08-03</td>\n",
       "      <td>meditation</td>\n",
       "      <td>78</td>\n",
       "    </tr>\n",
       "    <tr>\n",
       "      <th>1311</th>\n",
       "      <td>2025-08-03</td>\n",
       "      <td>guided meditation</td>\n",
       "      <td>5</td>\n",
       "    </tr>\n",
       "    <tr>\n",
       "      <th>1310</th>\n",
       "      <td>2025-08-03</td>\n",
       "      <td>breathwork</td>\n",
       "      <td>4</td>\n",
       "    </tr>\n",
       "    <tr>\n",
       "      <th>1309</th>\n",
       "      <td>2025-07-27</td>\n",
       "      <td>yoga nidra</td>\n",
       "      <td>3</td>\n",
       "    </tr>\n",
       "    <tr>\n",
       "      <th>1308</th>\n",
       "      <td>2025-07-27</td>\n",
       "      <td>mindfulness</td>\n",
       "      <td>19</td>\n",
       "    </tr>\n",
       "    <tr>\n",
       "      <th>1307</th>\n",
       "      <td>2025-07-27</td>\n",
       "      <td>meditation</td>\n",
       "      <td>69</td>\n",
       "    </tr>\n",
       "    <tr>\n",
       "      <th>1306</th>\n",
       "      <td>2025-07-27</td>\n",
       "      <td>guided meditation</td>\n",
       "      <td>4</td>\n",
       "    </tr>\n",
       "    <tr>\n",
       "      <th>1305</th>\n",
       "      <td>2025-07-27</td>\n",
       "      <td>breathwork</td>\n",
       "      <td>3</td>\n",
       "    </tr>\n",
       "  </tbody>\n",
       "</table>\n",
       "</div>"
      ],
      "text/plain": [
       "           date            keyword  search_interest\n",
       "1314 2025-08-03         yoga nidra                3\n",
       "1313 2025-08-03        mindfulness               22\n",
       "1312 2025-08-03         meditation               78\n",
       "1311 2025-08-03  guided meditation                5\n",
       "1310 2025-08-03         breathwork                4\n",
       "1309 2025-07-27         yoga nidra                3\n",
       "1308 2025-07-27        mindfulness               19\n",
       "1307 2025-07-27         meditation               69\n",
       "1306 2025-07-27  guided meditation                4\n",
       "1305 2025-07-27         breathwork                3"
      ]
     },
     "execution_count": 38,
     "metadata": {},
     "output_type": "execute_result"
    }
   ],
   "source": [
    "# 📅 Show the 10 most recent rows by date\n",
    "df_preview.sort_values(\"date\", ascending=False).head(10)"
   ]
  },
  {
   "cell_type": "code",
   "execution_count": null,
   "id": "5f76ce9a-2a2c-423c-b3c8-989caf2779a2",
   "metadata": {},
   "outputs": [],
   "source": []
  }
 ],
 "metadata": {
  "kernelspec": {
   "display_name": "Python 3 (ipykernel)",
   "language": "python",
   "name": "python3"
  },
  "language_info": {
   "codemirror_mode": {
    "name": "ipython",
    "version": 3
   },
   "file_extension": ".py",
   "mimetype": "text/x-python",
   "name": "python",
   "nbconvert_exporter": "python",
   "pygments_lexer": "ipython3",
   "version": "3.13.3"
  }
 },
 "nbformat": 4,
 "nbformat_minor": 5
}
